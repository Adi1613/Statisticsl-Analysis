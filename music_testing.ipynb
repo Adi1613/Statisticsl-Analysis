{
 "cells": [
  {
   "cell_type": "markdown",
   "metadata": {},
   "source": [
    "# Hypothesis testing "
   ]
  },
  {
   "cell_type": "code",
   "execution_count": 1,
   "metadata": {},
   "outputs": [],
   "source": [
    "import pandas as pd\n",
    "import seaborn as sns\n",
    "from scipy.stats import shapiro\n",
    "from scipy.stats import anderson\n",
    "from statsmodels.graphics.gofplots import qqplot\n",
    "from matplotlib import pyplot\n",
    "from scipy.stats import normaltest\n",
    "from numpy import mean\n",
    "from numpy import std"
   ]
  },
  {
   "cell_type": "code",
   "execution_count": 2,
   "metadata": {},
   "outputs": [],
   "source": [
    "df = pd.read_excel('Final mastersheet.xlsx')"
   ]
  },
  {
   "cell_type": "code",
   "execution_count": 3,
   "metadata": {},
   "outputs": [
    {
     "data": {
      "text/html": [
       "<div>\n",
       "<style scoped>\n",
       "    .dataframe tbody tr th:only-of-type {\n",
       "        vertical-align: middle;\n",
       "    }\n",
       "\n",
       "    .dataframe tbody tr th {\n",
       "        vertical-align: top;\n",
       "    }\n",
       "\n",
       "    .dataframe thead th {\n",
       "        text-align: right;\n",
       "    }\n",
       "</style>\n",
       "<table border=\"1\" class=\"dataframe\">\n",
       "  <thead>\n",
       "    <tr style=\"text-align: right;\">\n",
       "      <th></th>\n",
       "      <th>GROUP</th>\n",
       "      <th>AGE</th>\n",
       "      <th>GENDER</th>\n",
       "      <th>EDUCATION</th>\n",
       "      <th>RELIGION</th>\n",
       "      <th>SES</th>\n",
       "      <th>RESIDENCE</th>\n",
       "      <th>FAMILY TYPE</th>\n",
       "      <th>PRE CONNERS INDEX PRE</th>\n",
       "      <th>POST CONNERS INDEX PRE</th>\n",
       "      <th>...</th>\n",
       "      <th>Effect size.1</th>\n",
       "      <th>PRE ADHD Hyperactive-Impulsive PRE</th>\n",
       "      <th>POST ADHD Hyperactive-Impulsive</th>\n",
       "      <th>Effect size.2</th>\n",
       "      <th>PRE Conduct D. PRE</th>\n",
       "      <th>POST Conduct D. POST</th>\n",
       "      <th>Effect size.3</th>\n",
       "      <th>ODD PRE</th>\n",
       "      <th>ODD POST</th>\n",
       "      <th>Effect size.4</th>\n",
       "    </tr>\n",
       "  </thead>\n",
       "  <tbody>\n",
       "    <tr>\n",
       "      <th>0</th>\n",
       "      <td>1</td>\n",
       "      <td>6</td>\n",
       "      <td>M</td>\n",
       "      <td>2</td>\n",
       "      <td>Hindu</td>\n",
       "      <td>M</td>\n",
       "      <td>Urban</td>\n",
       "      <td>J</td>\n",
       "      <td>15</td>\n",
       "      <td>5</td>\n",
       "      <td>...</td>\n",
       "      <td>0.82</td>\n",
       "      <td>8</td>\n",
       "      <td>4</td>\n",
       "      <td>3.25</td>\n",
       "      <td>6</td>\n",
       "      <td>4</td>\n",
       "      <td>0.72</td>\n",
       "      <td>7</td>\n",
       "      <td>6</td>\n",
       "      <td>0.54</td>\n",
       "    </tr>\n",
       "    <tr>\n",
       "      <th>1</th>\n",
       "      <td>1</td>\n",
       "      <td>11</td>\n",
       "      <td>F</td>\n",
       "      <td>5</td>\n",
       "      <td>Hindu</td>\n",
       "      <td>M</td>\n",
       "      <td>Urban</td>\n",
       "      <td>N</td>\n",
       "      <td>19</td>\n",
       "      <td>13</td>\n",
       "      <td>...</td>\n",
       "      <td>3.30</td>\n",
       "      <td>9</td>\n",
       "      <td>9</td>\n",
       "      <td>0.00</td>\n",
       "      <td>11</td>\n",
       "      <td>7</td>\n",
       "      <td>1.45</td>\n",
       "      <td>6</td>\n",
       "      <td>7</td>\n",
       "      <td>-0.54</td>\n",
       "    </tr>\n",
       "    <tr>\n",
       "      <th>2</th>\n",
       "      <td>1</td>\n",
       "      <td>12</td>\n",
       "      <td>M</td>\n",
       "      <td>7</td>\n",
       "      <td>Muslim</td>\n",
       "      <td>M</td>\n",
       "      <td>Semi Urban</td>\n",
       "      <td>N</td>\n",
       "      <td>12</td>\n",
       "      <td>5</td>\n",
       "      <td>...</td>\n",
       "      <td>2.47</td>\n",
       "      <td>9</td>\n",
       "      <td>2</td>\n",
       "      <td>5.60</td>\n",
       "      <td>4</td>\n",
       "      <td>3</td>\n",
       "      <td>0.36</td>\n",
       "      <td>5</td>\n",
       "      <td>2</td>\n",
       "      <td>1.64</td>\n",
       "    </tr>\n",
       "    <tr>\n",
       "      <th>3</th>\n",
       "      <td>1</td>\n",
       "      <td>12</td>\n",
       "      <td>M</td>\n",
       "      <td>6</td>\n",
       "      <td>Hindu</td>\n",
       "      <td>M</td>\n",
       "      <td>Semi Urban</td>\n",
       "      <td>N</td>\n",
       "      <td>12</td>\n",
       "      <td>5</td>\n",
       "      <td>...</td>\n",
       "      <td>3.30</td>\n",
       "      <td>8</td>\n",
       "      <td>2</td>\n",
       "      <td>4.87</td>\n",
       "      <td>4</td>\n",
       "      <td>3</td>\n",
       "      <td>0.36</td>\n",
       "      <td>8</td>\n",
       "      <td>2</td>\n",
       "      <td>3.29</td>\n",
       "    </tr>\n",
       "    <tr>\n",
       "      <th>4</th>\n",
       "      <td>1</td>\n",
       "      <td>10</td>\n",
       "      <td>M</td>\n",
       "      <td>6</td>\n",
       "      <td>Hindu</td>\n",
       "      <td>M</td>\n",
       "      <td>Urban</td>\n",
       "      <td>N</td>\n",
       "      <td>13</td>\n",
       "      <td>11</td>\n",
       "      <td>...</td>\n",
       "      <td>0.82</td>\n",
       "      <td>6</td>\n",
       "      <td>5</td>\n",
       "      <td>0.81</td>\n",
       "      <td>6</td>\n",
       "      <td>6</td>\n",
       "      <td>0.00</td>\n",
       "      <td>7</td>\n",
       "      <td>6</td>\n",
       "      <td>0.54</td>\n",
       "    </tr>\n",
       "  </tbody>\n",
       "</table>\n",
       "<p>5 rows × 25 columns</p>\n",
       "</div>"
      ],
      "text/plain": [
       "   GROUP  AGE GENDER  EDUCATION RELIGION SES    RESIDENCE FAMILY TYPE  \\\n",
       "0      1    6      M          2    Hindu    M       Urban           J   \n",
       "1      1   11      F          5    Hindu    M       Urban           N   \n",
       "2      1   12      M          7   Muslim    M  Semi Urban           N   \n",
       "3      1   12      M          6    Hindu    M  Semi Urban           N   \n",
       "4      1   10      M          6    Hindu    M       Urban           N   \n",
       "\n",
       "   PRE CONNERS INDEX PRE  POST CONNERS INDEX PRE  ...  Effect size.1  \\\n",
       "0                     15                       5  ...           0.82   \n",
       "1                     19                      13  ...           3.30   \n",
       "2                     12                       5  ...           2.47   \n",
       "3                     12                       5  ...           3.30   \n",
       "4                     13                      11  ...           0.82   \n",
       "\n",
       "   PRE ADHD Hyperactive-Impulsive PRE  POST ADHD Hyperactive-Impulsive  \\\n",
       "0                                   8                                4   \n",
       "1                                   9                                9   \n",
       "2                                   9                                2   \n",
       "3                                   8                                2   \n",
       "4                                   6                                5   \n",
       "\n",
       "   Effect size.2  PRE Conduct D. PRE  POST Conduct D. POST  Effect size.3  \\\n",
       "0           3.25                   6                     4           0.72   \n",
       "1           0.00                  11                     7           1.45   \n",
       "2           5.60                   4                     3           0.36   \n",
       "3           4.87                   4                     3           0.36   \n",
       "4           0.81                   6                     6           0.00   \n",
       "\n",
       "   ODD PRE  ODD POST  Effect size.4  \n",
       "0        7         6           0.54  \n",
       "1        6         7          -0.54  \n",
       "2        5         2           1.64  \n",
       "3        8         2           3.29  \n",
       "4        7         6           0.54  \n",
       "\n",
       "[5 rows x 25 columns]"
      ]
     },
     "execution_count": 3,
     "metadata": {},
     "output_type": "execute_result"
    }
   ],
   "source": [
    "df.head()"
   ]
  },
  {
   "cell_type": "code",
   "execution_count": 4,
   "metadata": {},
   "outputs": [
    {
     "data": {
      "text/html": [
       "<div>\n",
       "<style scoped>\n",
       "    .dataframe tbody tr th:only-of-type {\n",
       "        vertical-align: middle;\n",
       "    }\n",
       "\n",
       "    .dataframe tbody tr th {\n",
       "        vertical-align: top;\n",
       "    }\n",
       "\n",
       "    .dataframe thead th {\n",
       "        text-align: right;\n",
       "    }\n",
       "</style>\n",
       "<table border=\"1\" class=\"dataframe\">\n",
       "  <thead>\n",
       "    <tr style=\"text-align: right;\">\n",
       "      <th></th>\n",
       "      <th>GROUP</th>\n",
       "      <th>AGE</th>\n",
       "      <th>EDUCATION</th>\n",
       "      <th>PRE CONNERS INDEX PRE</th>\n",
       "      <th>POST CONNERS INDEX PRE</th>\n",
       "      <th>Effect size</th>\n",
       "      <th>PRE CONNERS PERCENTILE (%)</th>\n",
       "      <th>POST CONNERS PERCENTILE (%)</th>\n",
       "      <th>PRE ADHD Intattentive</th>\n",
       "      <th>POST ADHD Intattentive</th>\n",
       "      <th>Effect size.1</th>\n",
       "      <th>PRE ADHD Hyperactive-Impulsive PRE</th>\n",
       "      <th>POST ADHD Hyperactive-Impulsive</th>\n",
       "      <th>Effect size.2</th>\n",
       "      <th>PRE Conduct D. PRE</th>\n",
       "      <th>POST Conduct D. POST</th>\n",
       "      <th>Effect size.3</th>\n",
       "      <th>ODD PRE</th>\n",
       "      <th>ODD POST</th>\n",
       "      <th>Effect size.4</th>\n",
       "    </tr>\n",
       "  </thead>\n",
       "  <tbody>\n",
       "    <tr>\n",
       "      <th>count</th>\n",
       "      <td>40.00000</td>\n",
       "      <td>40.000000</td>\n",
       "      <td>40.000000</td>\n",
       "      <td>40.000000</td>\n",
       "      <td>40.000000</td>\n",
       "      <td>40.000000</td>\n",
       "      <td>40.000000</td>\n",
       "      <td>40.000000</td>\n",
       "      <td>40.000000</td>\n",
       "      <td>40.000000</td>\n",
       "      <td>40.000000</td>\n",
       "      <td>40.000000</td>\n",
       "      <td>40.000000</td>\n",
       "      <td>40.000000</td>\n",
       "      <td>40.000000</td>\n",
       "      <td>40.000000</td>\n",
       "      <td>40.000000</td>\n",
       "      <td>40.000000</td>\n",
       "      <td>40.000000</td>\n",
       "      <td>40.000000</td>\n",
       "    </tr>\n",
       "    <tr>\n",
       "      <th>mean</th>\n",
       "      <td>1.50000</td>\n",
       "      <td>9.300000</td>\n",
       "      <td>4.475000</td>\n",
       "      <td>13.750000</td>\n",
       "      <td>8.925000</td>\n",
       "      <td>1.712000</td>\n",
       "      <td>95.775000</td>\n",
       "      <td>80.925000</td>\n",
       "      <td>7.150000</td>\n",
       "      <td>5.200000</td>\n",
       "      <td>1.499500</td>\n",
       "      <td>7.400000</td>\n",
       "      <td>5.625000</td>\n",
       "      <td>1.363000</td>\n",
       "      <td>5.550000</td>\n",
       "      <td>4.175000</td>\n",
       "      <td>0.464000</td>\n",
       "      <td>5.050000</td>\n",
       "      <td>3.875000</td>\n",
       "      <td>0.640250</td>\n",
       "    </tr>\n",
       "    <tr>\n",
       "      <th>std</th>\n",
       "      <td>0.50637</td>\n",
       "      <td>2.028009</td>\n",
       "      <td>1.617017</td>\n",
       "      <td>3.432499</td>\n",
       "      <td>4.103704</td>\n",
       "      <td>1.868584</td>\n",
       "      <td>6.855608</td>\n",
       "      <td>17.239471</td>\n",
       "      <td>1.424151</td>\n",
       "      <td>2.114662</td>\n",
       "      <td>1.317196</td>\n",
       "      <td>1.354953</td>\n",
       "      <td>2.059219</td>\n",
       "      <td>1.437839</td>\n",
       "      <td>2.707539</td>\n",
       "      <td>2.049234</td>\n",
       "      <td>0.886522</td>\n",
       "      <td>1.852926</td>\n",
       "      <td>1.924038</td>\n",
       "      <td>0.996168</td>\n",
       "    </tr>\n",
       "    <tr>\n",
       "      <th>min</th>\n",
       "      <td>1.00000</td>\n",
       "      <td>6.000000</td>\n",
       "      <td>2.000000</td>\n",
       "      <td>5.000000</td>\n",
       "      <td>2.000000</td>\n",
       "      <td>0.000000</td>\n",
       "      <td>64.000000</td>\n",
       "      <td>41.000000</td>\n",
       "      <td>4.000000</td>\n",
       "      <td>0.000000</td>\n",
       "      <td>0.000000</td>\n",
       "      <td>4.000000</td>\n",
       "      <td>2.000000</td>\n",
       "      <td>-0.680000</td>\n",
       "      <td>1.000000</td>\n",
       "      <td>1.000000</td>\n",
       "      <td>-1.450000</td>\n",
       "      <td>2.000000</td>\n",
       "      <td>1.000000</td>\n",
       "      <td>-1.090000</td>\n",
       "    </tr>\n",
       "    <tr>\n",
       "      <th>25%</th>\n",
       "      <td>1.00000</td>\n",
       "      <td>8.000000</td>\n",
       "      <td>3.000000</td>\n",
       "      <td>12.000000</td>\n",
       "      <td>5.750000</td>\n",
       "      <td>0.520000</td>\n",
       "      <td>97.000000</td>\n",
       "      <td>69.250000</td>\n",
       "      <td>6.000000</td>\n",
       "      <td>4.000000</td>\n",
       "      <td>0.660000</td>\n",
       "      <td>6.000000</td>\n",
       "      <td>4.000000</td>\n",
       "      <td>0.000000</td>\n",
       "      <td>4.000000</td>\n",
       "      <td>3.000000</td>\n",
       "      <td>0.000000</td>\n",
       "      <td>3.000000</td>\n",
       "      <td>2.000000</td>\n",
       "      <td>0.000000</td>\n",
       "    </tr>\n",
       "    <tr>\n",
       "      <th>50%</th>\n",
       "      <td>1.50000</td>\n",
       "      <td>9.000000</td>\n",
       "      <td>4.000000</td>\n",
       "      <td>14.000000</td>\n",
       "      <td>9.000000</td>\n",
       "      <td>1.180000</td>\n",
       "      <td>99.000000</td>\n",
       "      <td>87.000000</td>\n",
       "      <td>7.000000</td>\n",
       "      <td>5.000000</td>\n",
       "      <td>1.075000</td>\n",
       "      <td>8.000000</td>\n",
       "      <td>5.000000</td>\n",
       "      <td>0.810000</td>\n",
       "      <td>5.000000</td>\n",
       "      <td>4.000000</td>\n",
       "      <td>0.360000</td>\n",
       "      <td>5.000000</td>\n",
       "      <td>4.000000</td>\n",
       "      <td>0.540000</td>\n",
       "    </tr>\n",
       "    <tr>\n",
       "      <th>75%</th>\n",
       "      <td>2.00000</td>\n",
       "      <td>11.000000</td>\n",
       "      <td>6.000000</td>\n",
       "      <td>16.250000</td>\n",
       "      <td>12.000000</td>\n",
       "      <td>2.310000</td>\n",
       "      <td>99.000000</td>\n",
       "      <td>97.000000</td>\n",
       "      <td>8.000000</td>\n",
       "      <td>7.000000</td>\n",
       "      <td>2.470000</td>\n",
       "      <td>8.000000</td>\n",
       "      <td>8.000000</td>\n",
       "      <td>2.430000</td>\n",
       "      <td>7.250000</td>\n",
       "      <td>6.000000</td>\n",
       "      <td>0.730000</td>\n",
       "      <td>6.250000</td>\n",
       "      <td>5.000000</td>\n",
       "      <td>1.090000</td>\n",
       "    </tr>\n",
       "    <tr>\n",
       "      <th>max</th>\n",
       "      <td>2.00000</td>\n",
       "      <td>12.000000</td>\n",
       "      <td>7.000000</td>\n",
       "      <td>20.000000</td>\n",
       "      <td>19.000000</td>\n",
       "      <td>11.000000</td>\n",
       "      <td>99.000000</td>\n",
       "      <td>99.000000</td>\n",
       "      <td>10.000000</td>\n",
       "      <td>9.000000</td>\n",
       "      <td>4.950000</td>\n",
       "      <td>10.000000</td>\n",
       "      <td>9.000000</td>\n",
       "      <td>5.600000</td>\n",
       "      <td>12.000000</td>\n",
       "      <td>9.000000</td>\n",
       "      <td>3.670000</td>\n",
       "      <td>8.000000</td>\n",
       "      <td>8.000000</td>\n",
       "      <td>3.290000</td>\n",
       "    </tr>\n",
       "  </tbody>\n",
       "</table>\n",
       "</div>"
      ],
      "text/plain": [
       "          GROUP        AGE  EDUCATION  PRE CONNERS INDEX PRE  \\\n",
       "count  40.00000  40.000000  40.000000              40.000000   \n",
       "mean    1.50000   9.300000   4.475000              13.750000   \n",
       "std     0.50637   2.028009   1.617017               3.432499   \n",
       "min     1.00000   6.000000   2.000000               5.000000   \n",
       "25%     1.00000   8.000000   3.000000              12.000000   \n",
       "50%     1.50000   9.000000   4.000000              14.000000   \n",
       "75%     2.00000  11.000000   6.000000              16.250000   \n",
       "max     2.00000  12.000000   7.000000              20.000000   \n",
       "\n",
       "       POST CONNERS INDEX PRE  Effect size  PRE CONNERS PERCENTILE (%)  \\\n",
       "count               40.000000    40.000000                   40.000000   \n",
       "mean                 8.925000     1.712000                   95.775000   \n",
       "std                  4.103704     1.868584                    6.855608   \n",
       "min                  2.000000     0.000000                   64.000000   \n",
       "25%                  5.750000     0.520000                   97.000000   \n",
       "50%                  9.000000     1.180000                   99.000000   \n",
       "75%                 12.000000     2.310000                   99.000000   \n",
       "max                 19.000000    11.000000                   99.000000   \n",
       "\n",
       "       POST CONNERS PERCENTILE (%)  PRE ADHD Intattentive  \\\n",
       "count                    40.000000              40.000000   \n",
       "mean                     80.925000               7.150000   \n",
       "std                      17.239471               1.424151   \n",
       "min                      41.000000               4.000000   \n",
       "25%                      69.250000               6.000000   \n",
       "50%                      87.000000               7.000000   \n",
       "75%                      97.000000               8.000000   \n",
       "max                      99.000000              10.000000   \n",
       "\n",
       "       POST ADHD Intattentive  Effect size.1  \\\n",
       "count               40.000000      40.000000   \n",
       "mean                 5.200000       1.499500   \n",
       "std                  2.114662       1.317196   \n",
       "min                  0.000000       0.000000   \n",
       "25%                  4.000000       0.660000   \n",
       "50%                  5.000000       1.075000   \n",
       "75%                  7.000000       2.470000   \n",
       "max                  9.000000       4.950000   \n",
       "\n",
       "       PRE ADHD Hyperactive-Impulsive PRE  POST ADHD Hyperactive-Impulsive  \\\n",
       "count                           40.000000                        40.000000   \n",
       "mean                             7.400000                         5.625000   \n",
       "std                              1.354953                         2.059219   \n",
       "min                              4.000000                         2.000000   \n",
       "25%                              6.000000                         4.000000   \n",
       "50%                              8.000000                         5.000000   \n",
       "75%                              8.000000                         8.000000   \n",
       "max                             10.000000                         9.000000   \n",
       "\n",
       "       Effect size.2  PRE Conduct D. PRE  POST Conduct D. POST  Effect size.3  \\\n",
       "count      40.000000           40.000000             40.000000      40.000000   \n",
       "mean        1.363000            5.550000              4.175000       0.464000   \n",
       "std         1.437839            2.707539              2.049234       0.886522   \n",
       "min        -0.680000            1.000000              1.000000      -1.450000   \n",
       "25%         0.000000            4.000000              3.000000       0.000000   \n",
       "50%         0.810000            5.000000              4.000000       0.360000   \n",
       "75%         2.430000            7.250000              6.000000       0.730000   \n",
       "max         5.600000           12.000000              9.000000       3.670000   \n",
       "\n",
       "         ODD PRE   ODD POST  Effect size.4  \n",
       "count  40.000000  40.000000      40.000000  \n",
       "mean    5.050000   3.875000       0.640250  \n",
       "std     1.852926   1.924038       0.996168  \n",
       "min     2.000000   1.000000      -1.090000  \n",
       "25%     3.000000   2.000000       0.000000  \n",
       "50%     5.000000   4.000000       0.540000  \n",
       "75%     6.250000   5.000000       1.090000  \n",
       "max     8.000000   8.000000       3.290000  "
      ]
     },
     "execution_count": 4,
     "metadata": {},
     "output_type": "execute_result"
    }
   ],
   "source": [
    "df.describe()"
   ]
  },
  {
   "cell_type": "code",
   "execution_count": 5,
   "metadata": {},
   "outputs": [
    {
     "name": "stdout",
     "output_type": "stream",
     "text": [
      "<class 'pandas.core.frame.DataFrame'>\n",
      "RangeIndex: 40 entries, 0 to 39\n",
      "Data columns (total 25 columns):\n",
      "GROUP                                 40 non-null int64\n",
      "AGE                                   40 non-null int64\n",
      "GENDER                                40 non-null object\n",
      "EDUCATION                             40 non-null int64\n",
      "RELIGION                              40 non-null object\n",
      "SES                                   40 non-null object\n",
      "RESIDENCE                             40 non-null object\n",
      "FAMILY TYPE                           40 non-null object\n",
      "PRE CONNERS INDEX PRE                 40 non-null int64\n",
      "POST CONNERS INDEX PRE                40 non-null int64\n",
      "Effect size                           40 non-null float64\n",
      "PRE CONNERS PERCENTILE (%)            40 non-null int64\n",
      "POST CONNERS PERCENTILE (%)           40 non-null int64\n",
      "PRE ADHD Intattentive                 40 non-null int64\n",
      "POST ADHD Intattentive                40 non-null int64\n",
      "Effect size.1                         40 non-null float64\n",
      "PRE ADHD Hyperactive-Impulsive PRE    40 non-null int64\n",
      "POST ADHD Hyperactive-Impulsive       40 non-null int64\n",
      "Effect size.2                         40 non-null float64\n",
      "PRE Conduct D. PRE                    40 non-null int64\n",
      "POST Conduct D. POST                  40 non-null int64\n",
      "Effect size.3                         40 non-null float64\n",
      "ODD PRE                               40 non-null int64\n",
      "ODD POST                              40 non-null int64\n",
      "Effect size.4                         40 non-null float64\n",
      "dtypes: float64(5), int64(15), object(5)\n",
      "memory usage: 7.9+ KB\n"
     ]
    }
   ],
   "source": [
    "df.info()"
   ]
  },
  {
   "cell_type": "markdown",
   "metadata": {},
   "source": [
    "# Visualing the data according to the categorical variables"
   ]
  },
  {
   "cell_type": "code",
   "execution_count": 6,
   "metadata": {},
   "outputs": [
    {
     "data": {
      "text/plain": [
       "array([<matplotlib.axes._subplots.AxesSubplot object at 0x7f61ff6be3c8>,\n",
       "       <matplotlib.axes._subplots.AxesSubplot object at 0x7f61ff6e5390>],\n",
       "      dtype=object)"
      ]
     },
     "execution_count": 6,
     "metadata": {},
     "output_type": "execute_result"
    },
    {
     "data": {
      "image/png": "[encoded data removed]",
      "text/plain": [
       "<Figure size 1440x504 with 1 Axes>"
      ]
     },
     "metadata": {
      "needs_background": "light"
     },
     "output_type": "display_data"
    },
    {
     "data": {
      "image/png": "[encoded data removed]",
      "text/plain": [
       "<Figure size 432x288 with 2 Axes>"
      ]
     },
     "metadata": {
      "needs_background": "light"
     },
     "output_type": "display_data"
    }
   ],
   "source": [
    "gen = df.groupby(['GROUP', 'GENDER'])\n",
    "gen_df = gen.agg({'GENDER':'count'})\n",
    "a = gen_df.unstack(level=1)\n",
    "a.transpose()\n",
    "a.plot(kind='bar', figsize=(20, 7))\n",
    "gen_df.unstack(level=0).plot(kind='bar', subplots=True,)"
   ]
  },
  {
   "cell_type": "markdown",
   "metadata": {},
   "source": [
    "We are going to take different random variables for statistical testing:\n",
    "\n",
    "1. Effect_1_without_music\n",
    "2. Effect_1_with_music\n",
    "3. Effect_2_without_music\n",
    "4. Effect_2_with_music\n",
    "5. Effect_3_without_music\n",
    "6. Effect_3_with_music\n",
    "7. Effect_4_without_music\n",
    "8. Effect_4_with_music\n",
    "9. Effect_5_without_music\n",
    "10. Effect_5_with_music\n",
    "\n",
    "First we will check the normality of afore mentioned variables. Accordingly, hypothesis testing will be conducted using a parametric approach for the normality distributed random variables and a non parametric approach for the remaining variables. "
   ]
  },
  {
   "cell_type": "markdown",
   "metadata": {},
   "source": [
    "An important decision point when working with a sample of data is whether to use parametric or nonparametric statistical methods.\n",
    "\n",
    "Parametric statistical methods assume that the data has a known and specific distribution, often a Gaussian distribution. If a data sample is not Gaussian, then the assumptions of parametric statistical tests are violated and nonparametric statistical methods must be used."
   ]
  },
  {
   "cell_type": "markdown",
   "metadata": {},
   "source": [
    "# Checking the normality of the variables"
   ]
  },
  {
   "cell_type": "markdown",
   "metadata": {},
   "source": [
    "## Lets make different variables for statistical tests"
   ]
  },
  {
   "cell_type": "code",
   "execution_count": 7,
   "metadata": {},
   "outputs": [],
   "source": [
    "group_1 = df.groupby('GROUP')\n",
    "group_1.first()\n",
    "Group1 = group_1.get_group(1)\n",
    "Group2 = group_1.get_group(2)"
   ]
  },
  {
   "cell_type": "code",
   "execution_count": 8,
   "metadata": {},
   "outputs": [],
   "source": [
    "Effect_1_with_music = Group1['Effect size']\n",
    "Effect_1_without_music = Group2['Effect size']\n",
    "Effect_2_with_music = Group1['Effect size.1']\n",
    "Effect_2_without_music = Group2['Effect size.1']\n",
    "Effect_3_with_music = Group1['Effect size.2']\n",
    "Effect_3_without_music = Group2['Effect size.2']\n",
    "Effect_4_with_music = Group1['Effect size.3']\n",
    "Effect_4_without_music = Group2['Effect size.3']\n",
    "Effect_5_with_music = Group1['Effect size.4']\n",
    "Effect_5_without_music = Group2['Effect size.4']"
   ]
  },
  {
   "cell_type": "markdown",
   "metadata": {},
   "source": [
    "# Statistical Normality Tests"
   ]
  },
  {
   "cell_type": "markdown",
   "metadata": {},
   "source": [
    "There are many statistical tests that we can use to quantify whether a sample of data looks as though it was drawn from a Gaussian distribution.\n",
    "\n",
    "Each test makes different assumptions and considers different aspects of the data.\n",
    "\n",
    "We will look at 3 commonly used tests in this section that you can apply to your own data samples."
   ]
  },
  {
   "cell_type": "markdown",
   "metadata": {},
   "source": [
    "Each test will return at least two things:\n",
    "\n",
    "Statistic: A quantity calculated by the test that can be interpreted in the context of the test via comparing it to critical values from the distribution of the test statistic.\n",
    "\n",
    "p-value: Used to interpret the test, in this case whether the sample was drawn from a Gaussian distribution."
   ]
  },
  {
   "cell_type": "markdown",
   "metadata": {},
   "source": [
    "Each test calculates a test-specific statistic. This statistic can aid in the interpretation of the result, although it may require a deeper proficiency with statistics and a deeper knowledge of the specific statistical test. Instead, the p-value can be used to quickly and accurately interpret the statistic in practical applications.\n",
    "\n",
    "The tests assume that that the sample was drawn from a Gaussian distribution. Technically this is called the null hypothesis, or H0. A threshold level is chosen called alpha, typically 5% (or 0.05), that is used to interpret the p-value.\n",
    "\n",
    "In the SciPy implementation of these tests, you can interpret the p value as follows.\n",
    "\n",
    "p <= alpha: reject H0, not normal.\n",
    "p > alpha: fail to reject H0, normal.\n",
    "This means that, in general, we are seeking results with a larger p-value to confirm that our sample was likely drawn from a Gaussian distribution.\n",
    "\n",
    "A result above 5% does not mean that the null hypothesis is true. It means that it is very likely true given available evidence. The p-value is not the probability of the data fitting a Gaussian distribution; it can be thought of as a value that helps us interpret the statistical test."
   ]
  },
  {
   "cell_type": "markdown",
   "metadata": {},
   "source": [
    "# All tests are in sequence...\n",
    "Effect_1_without_music,\n",
    "Effect_2_with_music,\n",
    "Effect_2_without_music,\n",
    "Effect_3_with_music,\n",
    "Effect_3_without_music, \n",
    "Effect_4_with_music, \n",
    "Effect_4_without_music, \n",
    "Effect_5_with_music, \n",
    "Effect_5_without_music respectiviely"
   ]
  },
  {
   "cell_type": "markdown",
   "metadata": {},
   "source": [
    "# Normality tests in sequence"
   ]
  },
  {
   "cell_type": "markdown",
   "metadata": {},
   "source": [
    "# 1. Quantile-Quantile Plot"
   ]
  },
  {
   "cell_type": "markdown",
   "metadata": {},
   "source": [
    "This plot generates its own sample of the idealized distribution that we are comparing with, in this case the Gaussian distribution. The idealized samples are divided into groups (e.g. 5), called quantiles. Each data point in the sample is paired with a similar member from the idealized distribution at the same cumulative distribution.\n",
    "\n",
    "The resulting points are plotted as a scatter plot with the idealized value on the x-axis and the data sample on the y-axis.\n",
    "\n",
    "A perfect match for the distribution will be shown by a line of dots on a 45-degree angle from the bottom left of the plot to the top right. Often a line is drawn on the plot to help make this expectation clear. Deviations by the dots from the line shows a deviation from the expected distribution."
   ]
  },
  {
   "cell_type": "markdown",
   "metadata": {},
   "source": [
    "# 2. Shapiro-Wilk Test"
   ]
  },
  {
   "cell_type": "markdown",
   "metadata": {},
   "source": [
    "The Shapiro-Wilk test evaluates a data sample and quantifies how likely it is that the data was drawn from a Gaussian distribution, named for Samuel Shapiro and Martin Wilk.\n",
    "\n",
    "In practice, the Shapiro-Wilk test is believed to be a reliable test of normality, although there is some suggestion that the test may be suitable for smaller samples of data, e.g. thousands of observations or fewer.\n",
    "\n",
    "The shapiro() SciPy function will calculate the Shapiro-Wilk on a given dataset. The function returns both the W-statistic calculated by the test and the p-value."
   ]
  },
  {
   "cell_type": "markdown",
   "metadata": {},
   "source": [
    "# 3. D’Agostino’s K^2 Test"
   ]
  },
  {
   "cell_type": "markdown",
   "metadata": {},
   "source": [
    "The D’Agostino’s K^2 test calculates summary statistics from the data, namely kurtosis and skewness, to determine if the data distribution departs from the normal distribution, named for Ralph D’Agostino.\n",
    "\n",
    "Skew is a quantification of how much a distribution is pushed left or right, a measure of asymmetry in the distribution.\n",
    "Kurtosis quantifies how much of the distribution is in the tail. It is a simple and commonly used statistical test for normality."
   ]
  },
  {
   "cell_type": "markdown",
   "metadata": {},
   "source": [
    "# 4. Anderson-Darling Test "
   ]
  },
  {
   "cell_type": "markdown",
   "metadata": {},
   "source": [
    "Anderson-Darling Test is a statistical test that can be used to evaluate whether a data sample comes from one of among many known data samples, named for Theodore Anderson and Donald Darling.\n",
    "\n",
    "It can be used to check whether a data sample is normal. The test is a modified version of a more sophisticated nonparametric goodness-of-fit statistical test called the Kolmogorov-Smirnov test.\n",
    "\n",
    "A feature of the Anderson-Darling test is that it returns a list of critical values rather than a single p-value. This can provide the basis for a more thorough interpretation of the result."
   ]
  },
  {
   "cell_type": "markdown",
   "metadata": {},
   "source": [
    "### Effect_1_with_music"
   ]
  },
  {
   "cell_type": "code",
   "execution_count": 9,
   "metadata": {},
   "outputs": [
    {
     "data": {
      "image/png": "[encoded data removed]",
      "text/plain": [
       "<Figure size 432x288 with 1 Axes>"
      ]
     },
     "metadata": {
      "needs_background": "light"
     },
     "output_type": "display_data"
    }
   ],
   "source": [
    "# q-q plot\n",
    "qqplot(Effect_1_with_music, line='s')\n",
    "pyplot.show()"
   ]
  },
  {
   "cell_type": "code",
   "execution_count": 10,
   "metadata": {},
   "outputs": [
    {
     "name": "stdout",
     "output_type": "stream",
     "text": [
      "Statistics=0.950, p=0.368\n",
      "Sample looks Gaussian (fail to reject H0)\n"
     ]
    }
   ],
   "source": [
    "# normality test\n",
    "stat, p = shapiro(Effect_1_with_music)\n",
    "print('Statistics=%.3f, p=%.3f' % (stat, p))\n",
    "# interpret\n",
    "alpha = 0.05\n",
    "if p > alpha:\n",
    "    print('Sample looks Gaussian (fail to reject H0)')\n",
    "else:\n",
    "    print('Sample does not look Gaussian (reject H0)')"
   ]
  },
  {
   "cell_type": "code",
   "execution_count": 11,
   "metadata": {},
   "outputs": [
    {
     "name": "stdout",
     "output_type": "stream",
     "text": [
      "Statistics=3.457, p=0.178\n",
      "Sample looks Gaussian (fail to reject H0)\n"
     ]
    }
   ],
   "source": [
    "# normality test\n",
    "stat, p = normaltest(Effect_1_with_music)\n",
    "print('Statistics=%.3f, p=%.3f' % (stat, p))\n",
    "# interpret\n",
    "alpha = 0.05\n",
    "if p > alpha:\n",
    "    print('Sample looks Gaussian (fail to reject H0)')\n",
    "else:\n",
    "    print('Sample does not look Gaussian (reject H0)')"
   ]
  },
  {
   "cell_type": "code",
   "execution_count": 12,
   "metadata": {},
   "outputs": [
    {
     "name": "stdout",
     "output_type": "stream",
     "text": [
      "Statistic: 0.356\n",
      "15.000: 0.506, data looks normal (fail to reject H0)\n",
      "10.000: 0.577, data looks normal (fail to reject H0)\n",
      "5.000: 0.692, data looks normal (fail to reject H0)\n",
      "2.500: 0.807, data looks normal (fail to reject H0)\n",
      "1.000: 0.960, data looks normal (fail to reject H0)\n"
     ]
    }
   ],
   "source": [
    "# normality test\n",
    "result = anderson(Effect_1_with_music)\n",
    "print('Statistic: %.3f' % result.statistic)\n",
    "p = 0\n",
    "for i in range(len(result.critical_values)):\n",
    "    sl, cv = result.significance_level[i], result.critical_values[i]\n",
    "    if result.statistic < result.critical_values[i]:\n",
    "        print('%.3f: %.3f, data looks normal (fail to reject H0)' % (sl, cv))\n",
    "    else:\n",
    "        print('%.3f: %.3f, data does not look normal (reject H0)' % (sl, cv))"
   ]
  },
  {
   "cell_type": "markdown",
   "metadata": {},
   "source": [
    "### Effect_1_without_music"
   ]
  },
  {
   "cell_type": "code",
   "execution_count": 13,
   "metadata": {},
   "outputs": [
    {
     "data": {
      "image/png": "[encoded data removed]",
      "text/plain": [
       "<Figure size 432x288 with 1 Axes>"
      ]
     },
     "metadata": {
      "needs_background": "light"
     },
     "output_type": "display_data"
    }
   ],
   "source": [
    "# q-q plot\n",
    "qqplot(Effect_1_without_music, line='s')\n",
    "pyplot.show()"
   ]
  },
  {
   "cell_type": "code",
   "execution_count": 14,
   "metadata": {},
   "outputs": [
    {
     "name": "stdout",
     "output_type": "stream",
     "text": [
      "Statistics=0.465, p=0.000\n",
      "Sample does not look Gaussian (reject H0)\n",
      "Statistics=45.958, p=0.000\n",
      "Sample does not look Gaussian (reject H0)\n",
      "Statistic: 3.879\n",
      "15.000: 0.506, data does not look normal (reject H0)\n",
      "10.000: 0.577, data does not look normal (reject H0)\n",
      "5.000: 0.692, data does not look normal (reject H0)\n",
      "2.500: 0.807, data does not look normal (reject H0)\n",
      "1.000: 0.960, data does not look normal (reject H0)\n"
     ]
    }
   ],
   "source": [
    "# normality test\n",
    "stat, p = shapiro(Effect_1_without_music)\n",
    "print('Statistics=%.3f, p=%.3f' % (stat, p))\n",
    "# interpret\n",
    "alpha = 0.05\n",
    "if p > alpha:\n",
    "    print('Sample looks Gaussian (fail to reject H0)')\n",
    "else:\n",
    "    print('Sample does not look Gaussian (reject H0)')\n",
    "    \n",
    "    \n",
    "# normality test\n",
    "stat, p = normaltest(Effect_1_without_music)\n",
    "print('Statistics=%.3f, p=%.3f' % (stat, p))\n",
    "# interpret\n",
    "alpha = 0.05\n",
    "if p > alpha:\n",
    "    print('Sample looks Gaussian (fail to reject H0)')\n",
    "else:\n",
    "    print('Sample does not look Gaussian (reject H0)')\n",
    "    \n",
    "    \n",
    "# normality test\n",
    "result = anderson(Effect_1_without_music)\n",
    "print('Statistic: %.3f' % result.statistic)\n",
    "p = 0\n",
    "for i in range(len(result.critical_values)):\n",
    "    sl, cv = result.significance_level[i], result.critical_values[i]\n",
    "    if result.statistic < result.critical_values[i]:\n",
    "        print('%.3f: %.3f, data looks normal (fail to reject H0)' % (sl, cv))\n",
    "    else:\n",
    "        print('%.3f: %.3f, data does not look normal (reject H0)' % (sl, cv))    \n"
   ]
  },
  {
   "cell_type": "markdown",
   "metadata": {},
   "source": [
    "### Effect_2_with_music"
   ]
  },
  {
   "cell_type": "code",
   "execution_count": 15,
   "metadata": {},
   "outputs": [
    {
     "data": {
      "image/png": "[encoded data removed]",
      "text/plain": [
       "<Figure size 432x288 with 1 Axes>"
      ]
     },
     "metadata": {
      "needs_background": "light"
     },
     "output_type": "display_data"
    }
   ],
   "source": [
    "qqplot(Effect_2_with_music, line='s')\n",
    "pyplot.show()"
   ]
  },
  {
   "cell_type": "code",
   "execution_count": 16,
   "metadata": {},
   "outputs": [
    {
     "name": "stdout",
     "output_type": "stream",
     "text": [
      "Statistics=0.932, p=0.172\n",
      "Sample looks Gaussian (fail to reject H0)\n",
      "Statistics=0.959, p=0.619\n",
      "Sample looks Gaussian (fail to reject H0)\n",
      "Statistic: 0.611\n",
      "15.000: 0.506, data does not look normal (reject H0)\n",
      "10.000: 0.577, data does not look normal (reject H0)\n",
      "5.000: 0.692, data looks normal (fail to reject H0)\n",
      "2.500: 0.807, data looks normal (fail to reject H0)\n",
      "1.000: 0.960, data looks normal (fail to reject H0)\n"
     ]
    }
   ],
   "source": [
    "# normality test\n",
    "stat, p = shapiro(Effect_2_with_music)\n",
    "print('Statistics=%.3f, p=%.3f' % (stat, p))\n",
    "# interpret\n",
    "alpha = 0.05\n",
    "if p > alpha:\n",
    "    print('Sample looks Gaussian (fail to reject H0)')\n",
    "else:\n",
    "    print('Sample does not look Gaussian (reject H0)')\n",
    "    \n",
    "    \n",
    "# normality test\n",
    "stat, p = normaltest(Effect_2_with_music)\n",
    "print('Statistics=%.3f, p=%.3f' % (stat, p))\n",
    "# interpret\n",
    "alpha = 0.05\n",
    "if p > alpha:\n",
    "    print('Sample looks Gaussian (fail to reject H0)')\n",
    "else:\n",
    "    print('Sample does not look Gaussian (reject H0)')\n",
    "    \n",
    "    \n",
    "# normality test\n",
    "result = anderson(Effect_2_with_music)\n",
    "print('Statistic: %.3f' % result.statistic)\n",
    "p = 0\n",
    "for i in range(len(result.critical_values)):\n",
    "    sl, cv = result.significance_level[i], result.critical_values[i]\n",
    "    if result.statistic < result.critical_values[i]:\n",
    "        print('%.3f: %.3f, data looks normal (fail to reject H0)' % (sl, cv))\n",
    "    else:\n",
    "        print('%.3f: %.3f, data does not look normal (reject H0)' % (sl, cv))    \n"
   ]
  },
  {
   "cell_type": "markdown",
   "metadata": {},
   "source": [
    "### Effect_2_without_music"
   ]
  },
  {
   "cell_type": "code",
   "execution_count": 17,
   "metadata": {},
   "outputs": [
    {
     "data": {
      "image/png": "[encoded data removed]",
      "text/plain": [
       "<Figure size 432x288 with 1 Axes>"
      ]
     },
     "metadata": {
      "needs_background": "light"
     },
     "output_type": "display_data"
    }
   ],
   "source": [
    "qqplot(Effect_2_without_music, line='s')\n",
    "pyplot.show()"
   ]
  },
  {
   "cell_type": "code",
   "execution_count": 18,
   "metadata": {},
   "outputs": [
    {
     "name": "stdout",
     "output_type": "stream",
     "text": [
      "Statistics=0.833, p=0.003\n",
      "Sample does not look Gaussian (reject H0)\n",
      "Statistics=3.847, p=0.146\n",
      "Sample looks Gaussian (fail to reject H0)\n",
      "Statistic: 1.285\n",
      "15.000: 0.506, data does not look normal (reject H0)\n",
      "10.000: 0.577, data does not look normal (reject H0)\n",
      "5.000: 0.692, data does not look normal (reject H0)\n",
      "2.500: 0.807, data does not look normal (reject H0)\n",
      "1.000: 0.960, data does not look normal (reject H0)\n"
     ]
    }
   ],
   "source": [
    "# normality test\n",
    "stat, p = shapiro(Effect_2_without_music)\n",
    "print('Statistics=%.3f, p=%.3f' % (stat, p))\n",
    "# interpret\n",
    "alpha = 0.05\n",
    "if p > alpha:\n",
    "    print('Sample looks Gaussian (fail to reject H0)')\n",
    "else:\n",
    "    print('Sample does not look Gaussian (reject H0)')\n",
    "    \n",
    "    \n",
    "# normality test\n",
    "stat, p = normaltest(Effect_2_without_music)\n",
    "print('Statistics=%.3f, p=%.3f' % (stat, p))\n",
    "# interpret\n",
    "alpha = 0.05\n",
    "if p > alpha:\n",
    "    print('Sample looks Gaussian (fail to reject H0)')\n",
    "else:\n",
    "    print('Sample does not look Gaussian (reject H0)')\n",
    "    \n",
    "    \n",
    "# normality test\n",
    "result = anderson(Effect_2_without_music)\n",
    "print('Statistic: %.3f' % result.statistic)\n",
    "p = 0\n",
    "for i in range(len(result.critical_values)):\n",
    "    sl, cv = result.significance_level[i], result.critical_values[i]\n",
    "    if result.statistic < result.critical_values[i]:\n",
    "        print('%.3f: %.3f, data looks normal (fail to reject H0)' % (sl, cv))\n",
    "    else:\n",
    "        print('%.3f: %.3f, data does not look normal (reject H0)' % (sl, cv))    \n"
   ]
  },
  {
   "cell_type": "markdown",
   "metadata": {},
   "source": [
    "### Effect_3_with_music"
   ]
  },
  {
   "cell_type": "code",
   "execution_count": 19,
   "metadata": {},
   "outputs": [
    {
     "data": {
      "image/png": "[encoded data removed]",
      "text/plain": [
       "<Figure size 432x288 with 1 Axes>"
      ]
     },
     "metadata": {
      "needs_background": "light"
     },
     "output_type": "display_data"
    }
   ],
   "source": [
    "qqplot(Effect_3_with_music, line='s')\n",
    "pyplot.show()"
   ]
  },
  {
   "cell_type": "code",
   "execution_count": 20,
   "metadata": {},
   "outputs": [
    {
     "name": "stdout",
     "output_type": "stream",
     "text": [
      "Statistics=0.911, p=0.065\n",
      "Sample looks Gaussian (fail to reject H0)\n",
      "Statistics=3.022, p=0.221\n",
      "Sample looks Gaussian (fail to reject H0)\n",
      "Statistic: 0.643\n",
      "15.000: 0.506, data does not look normal (reject H0)\n",
      "10.000: 0.577, data does not look normal (reject H0)\n",
      "5.000: 0.692, data looks normal (fail to reject H0)\n",
      "2.500: 0.807, data looks normal (fail to reject H0)\n",
      "1.000: 0.960, data looks normal (fail to reject H0)\n"
     ]
    }
   ],
   "source": [
    "# normality test\n",
    "stat, p = shapiro(Effect_3_with_music)\n",
    "print('Statistics=%.3f, p=%.3f' % (stat, p))\n",
    "# interpret\n",
    "alpha = 0.05\n",
    "if p > alpha:\n",
    "    print('Sample looks Gaussian (fail to reject H0)')\n",
    "else:\n",
    "    print('Sample does not look Gaussian (reject H0)')\n",
    "    \n",
    "    \n",
    "# normality test\n",
    "stat, p = normaltest(Effect_3_with_music)\n",
    "print('Statistics=%.3f, p=%.3f' % (stat, p))\n",
    "# interpret\n",
    "alpha = 0.05\n",
    "if p > alpha:\n",
    "    print('Sample looks Gaussian (fail to reject H0)')\n",
    "else:\n",
    "    print('Sample does not look Gaussian (reject H0)')\n",
    "    \n",
    "    \n",
    "# normality test\n",
    "result = anderson(Effect_3_with_music)\n",
    "print('Statistic: %.3f' % result.statistic)\n",
    "p = 0\n",
    "for i in range(len(result.critical_values)):\n",
    "    sl, cv = result.significance_level[i], result.critical_values[i]\n",
    "    if result.statistic < result.critical_values[i]:\n",
    "        print('%.3f: %.3f, data looks normal (fail to reject H0)' % (sl, cv))\n",
    "    else:\n",
    "        print('%.3f: %.3f, data does not look normal (reject H0)' % (sl, cv))   "
   ]
  },
  {
   "cell_type": "markdown",
   "metadata": {},
   "source": [
    "### Effect_3_without_music"
   ]
  },
  {
   "cell_type": "code",
   "execution_count": 21,
   "metadata": {},
   "outputs": [
    {
     "data": {
      "image/png": "[encoded data removed]",
      "text/plain": [
       "<Figure size 432x288 with 1 Axes>"
      ]
     },
     "metadata": {
      "needs_background": "light"
     },
     "output_type": "display_data"
    }
   ],
   "source": [
    "qqplot(Effect_3_without_music, line='s')\n",
    "pyplot.show()"
   ]
  },
  {
   "cell_type": "code",
   "execution_count": 22,
   "metadata": {},
   "outputs": [
    {
     "name": "stdout",
     "output_type": "stream",
     "text": [
      "Statistics=0.870, p=0.012\n",
      "Sample does not look Gaussian (reject H0)\n",
      "Statistics=6.740, p=0.034\n",
      "Sample does not look Gaussian (reject H0)\n",
      "Statistic: 1.079\n",
      "15.000: 0.506, data does not look normal (reject H0)\n",
      "10.000: 0.577, data does not look normal (reject H0)\n",
      "5.000: 0.692, data does not look normal (reject H0)\n",
      "2.500: 0.807, data does not look normal (reject H0)\n",
      "1.000: 0.960, data does not look normal (reject H0)\n"
     ]
    }
   ],
   "source": [
    "# normality test\n",
    "stat, p = shapiro(Effect_3_without_music)\n",
    "print('Statistics=%.3f, p=%.3f' % (stat, p))\n",
    "# interpret\n",
    "alpha = 0.05\n",
    "if p > alpha:\n",
    "    print('Sample looks Gaussian (fail to reject H0)')\n",
    "else:\n",
    "    print('Sample does not look Gaussian (reject H0)')\n",
    "    \n",
    "    \n",
    "# normality test\n",
    "stat, p = normaltest(Effect_3_without_music)\n",
    "print('Statistics=%.3f, p=%.3f' % (stat, p))\n",
    "# interpret\n",
    "alpha = 0.05\n",
    "if p > alpha:\n",
    "    print('Sample looks Gaussian (fail to reject H0)')\n",
    "else:\n",
    "    print('Sample does not look Gaussian (reject H0)')\n",
    "    \n",
    "    \n",
    "# normality test\n",
    "result = anderson(Effect_3_without_music)\n",
    "print('Statistic: %.3f' % result.statistic)\n",
    "p = 0\n",
    "for i in range(len(result.critical_values)):\n",
    "    sl, cv = result.significance_level[i], result.critical_values[i]\n",
    "    if result.statistic < result.critical_values[i]:\n",
    "        print('%.3f: %.3f, data looks normal (fail to reject H0)' % (sl, cv))\n",
    "    else:\n",
    "        print('%.3f: %.3f, data does not look normal (reject H0)' % (sl, cv))   "
   ]
  },
  {
   "cell_type": "markdown",
   "metadata": {},
   "source": [
    "### Effect_4_with_music"
   ]
  },
  {
   "cell_type": "code",
   "execution_count": 23,
   "metadata": {},
   "outputs": [
    {
     "data": {
      "image/png": "[encoded data removed]",
      "text/plain": [
       "<Figure size 432x288 with 1 Axes>"
      ]
     },
     "metadata": {
      "needs_background": "light"
     },
     "output_type": "display_data"
    }
   ],
   "source": [
    "qqplot(Effect_4_with_music, line='s')\n",
    "pyplot.show()"
   ]
  },
  {
   "cell_type": "code",
   "execution_count": 24,
   "metadata": {},
   "outputs": [
    {
     "name": "stdout",
     "output_type": "stream",
     "text": [
      "Statistics=0.918, p=0.091\n",
      "Sample looks Gaussian (fail to reject H0)\n",
      "Statistics=1.289, p=0.525\n",
      "Sample looks Gaussian (fail to reject H0)\n",
      "Statistic: 0.875\n",
      "15.000: 0.506, data does not look normal (reject H0)\n",
      "10.000: 0.577, data does not look normal (reject H0)\n",
      "5.000: 0.692, data does not look normal (reject H0)\n",
      "2.500: 0.807, data does not look normal (reject H0)\n",
      "1.000: 0.960, data looks normal (fail to reject H0)\n"
     ]
    }
   ],
   "source": [
    "# normality test\n",
    "stat, p = shapiro(Effect_4_with_music)\n",
    "print('Statistics=%.3f, p=%.3f' % (stat, p))\n",
    "# interpret\n",
    "alpha = 0.05\n",
    "if p > alpha:\n",
    "    print('Sample looks Gaussian (fail to reject H0)')\n",
    "else:\n",
    "    print('Sample does not look Gaussian (reject H0)')\n",
    "    \n",
    "    \n",
    "# normality test\n",
    "stat, p = normaltest(Effect_4_with_music)\n",
    "print('Statistics=%.3f, p=%.3f' % (stat, p))\n",
    "# interpret\n",
    "alpha = 0.05\n",
    "if p > alpha:\n",
    "    print('Sample looks Gaussian (fail to reject H0)')\n",
    "else:\n",
    "    print('Sample does not look Gaussian (reject H0)')\n",
    "    \n",
    "    \n",
    "# normality test\n",
    "result = anderson(Effect_4_with_music)\n",
    "print('Statistic: %.3f' % result.statistic)\n",
    "p = 0\n",
    "for i in range(len(result.critical_values)):\n",
    "    sl, cv = result.significance_level[i], result.critical_values[i]\n",
    "    if result.statistic < result.critical_values[i]:\n",
    "        print('%.3f: %.3f, data looks normal (fail to reject H0)' % (sl, cv))\n",
    "    else:\n",
    "        print('%.3f: %.3f, data does not look normal (reject H0)' % (sl, cv))  "
   ]
  },
  {
   "cell_type": "markdown",
   "metadata": {},
   "source": [
    "### Effect_4_without_music"
   ]
  },
  {
   "cell_type": "code",
   "execution_count": 25,
   "metadata": {},
   "outputs": [
    {
     "data": {
      "image/png": "[encoded data removed]",
      "text/plain": [
       "<Figure size 432x288 with 1 Axes>"
      ]
     },
     "metadata": {
      "needs_background": "light"
     },
     "output_type": "display_data"
    }
   ],
   "source": [
    "qqplot(Effect_4_without_music, line='s')\n",
    "pyplot.show()"
   ]
  },
  {
   "cell_type": "code",
   "execution_count": 26,
   "metadata": {},
   "outputs": [
    {
     "name": "stdout",
     "output_type": "stream",
     "text": [
      "Statistics=0.782, p=0.000\n",
      "Sample does not look Gaussian (reject H0)\n",
      "Statistics=21.478, p=0.000\n",
      "Sample does not look Gaussian (reject H0)\n",
      "Statistic: 1.534\n",
      "15.000: 0.506, data does not look normal (reject H0)\n",
      "10.000: 0.577, data does not look normal (reject H0)\n",
      "5.000: 0.692, data does not look normal (reject H0)\n",
      "2.500: 0.807, data does not look normal (reject H0)\n",
      "1.000: 0.960, data does not look normal (reject H0)\n"
     ]
    }
   ],
   "source": [
    "# normality test\n",
    "stat, p = shapiro(Effect_4_without_music)\n",
    "print('Statistics=%.3f, p=%.3f' % (stat, p))\n",
    "# interpret\n",
    "alpha = 0.05\n",
    "if p > alpha:\n",
    "    print('Sample looks Gaussian (fail to reject H0)')\n",
    "else:\n",
    "    print('Sample does not look Gaussian (reject H0)')\n",
    "    \n",
    "    \n",
    "# normality test\n",
    "stat, p = normaltest(Effect_4_without_music)\n",
    "print('Statistics=%.3f, p=%.3f' % (stat, p))\n",
    "# interpret\n",
    "alpha = 0.05\n",
    "if p > alpha:\n",
    "    print('Sample looks Gaussian (fail to reject H0)')\n",
    "else:\n",
    "    print('Sample does not look Gaussian (reject H0)')\n",
    "    \n",
    "    \n",
    "# normality test\n",
    "result = anderson(Effect_4_without_music)\n",
    "print('Statistic: %.3f' % result.statistic)\n",
    "p = 0\n",
    "for i in range(len(result.critical_values)):\n",
    "    sl, cv = result.significance_level[i], result.critical_values[i]\n",
    "    if result.statistic < result.critical_values[i]:\n",
    "        print('%.3f: %.3f, data looks normal (fail to reject H0)' % (sl, cv))\n",
    "    else:\n",
    "        print('%.3f: %.3f, data does not look normal (reject H0)' % (sl, cv))   "
   ]
  },
  {
   "cell_type": "markdown",
   "metadata": {},
   "source": [
    "### Effect_5_with_music "
   ]
  },
  {
   "cell_type": "code",
   "execution_count": 27,
   "metadata": {},
   "outputs": [
    {
     "data": {
      "image/png": "[encoded data removed]",
      "text/plain": [
       "<Figure size 432x288 with 1 Axes>"
      ]
     },
     "metadata": {
      "needs_background": "light"
     },
     "output_type": "display_data"
    }
   ],
   "source": [
    "qqplot(Effect_5_with_music, line='s')\n",
    "pyplot.show()"
   ]
  },
  {
   "cell_type": "code",
   "execution_count": 28,
   "metadata": {},
   "outputs": [
    {
     "name": "stdout",
     "output_type": "stream",
     "text": [
      "Statistics=0.945, p=0.303\n",
      "Sample looks Gaussian (fail to reject H0)\n",
      "Statistics=1.648, p=0.439\n",
      "Sample looks Gaussian (fail to reject H0)\n",
      "Statistic: 0.431\n",
      "15.000: 0.506, data looks normal (fail to reject H0)\n",
      "10.000: 0.577, data looks normal (fail to reject H0)\n",
      "5.000: 0.692, data looks normal (fail to reject H0)\n",
      "2.500: 0.807, data looks normal (fail to reject H0)\n",
      "1.000: 0.960, data looks normal (fail to reject H0)\n"
     ]
    }
   ],
   "source": [
    "# normality test\n",
    "stat, p = shapiro(Effect_5_with_music)\n",
    "print('Statistics=%.3f, p=%.3f' % (stat, p))\n",
    "# interpret\n",
    "alpha = 0.05\n",
    "if p > alpha:\n",
    "    print('Sample looks Gaussian (fail to reject H0)')\n",
    "else:\n",
    "    print('Sample does not look Gaussian (reject H0)')\n",
    "    \n",
    "    \n",
    "# normality test\n",
    "stat, p = normaltest(Effect_5_with_music)\n",
    "print('Statistics=%.3f, p=%.3f' % (stat, p))\n",
    "# interpret\n",
    "alpha = 0.05\n",
    "if p > alpha:\n",
    "    print('Sample looks Gaussian (fail to reject H0)')\n",
    "else:\n",
    "    print('Sample does not look Gaussian (reject H0)')\n",
    "    \n",
    "    \n",
    "# normality test\n",
    "result = anderson(Effect_5_with_music)\n",
    "print('Statistic: %.3f' % result.statistic)\n",
    "p = 0\n",
    "for i in range(len(result.critical_values)):\n",
    "    sl, cv = result.significance_level[i], result.critical_values[i]\n",
    "    if result.statistic < result.critical_values[i]:\n",
    "        print('%.3f: %.3f, data looks normal (fail to reject H0)' % (sl, cv))\n",
    "    else:\n",
    "        print('%.3f: %.3f, data does not look normal (reject H0)' % (sl, cv)) "
   ]
  },
  {
   "cell_type": "markdown",
   "metadata": {},
   "source": [
    "### Effect_5_without_music"
   ]
  },
  {
   "cell_type": "code",
   "execution_count": 29,
   "metadata": {},
   "outputs": [
    {
     "data": {
      "image/png": "[encoded data removed]",
      "text/plain": [
       "<Figure size 432x288 with 1 Axes>"
      ]
     },
     "metadata": {
      "needs_background": "light"
     },
     "output_type": "display_data"
    }
   ],
   "source": [
    "qqplot(Effect_5_without_music, line='s')\n",
    "pyplot.show()"
   ]
  },
  {
   "cell_type": "code",
   "execution_count": 30,
   "metadata": {},
   "outputs": [
    {
     "name": "stdout",
     "output_type": "stream",
     "text": [
      "Statistics=0.758, p=0.000\n",
      "Sample does not look Gaussian (reject H0)\n",
      "Statistics=16.638, p=0.000\n",
      "Sample does not look Gaussian (reject H0)\n",
      "Statistic: 2.017\n",
      "15.000: 0.506, data does not look normal (reject H0)\n",
      "10.000: 0.577, data does not look normal (reject H0)\n",
      "5.000: 0.692, data does not look normal (reject H0)\n",
      "2.500: 0.807, data does not look normal (reject H0)\n",
      "1.000: 0.960, data does not look normal (reject H0)\n"
     ]
    }
   ],
   "source": [
    "# normality test\n",
    "stat, p = shapiro(Effect_5_without_music)\n",
    "print('Statistics=%.3f, p=%.3f' % (stat, p))\n",
    "# interpret\n",
    "alpha = 0.05\n",
    "if p > alpha:\n",
    "    print('Sample looks Gaussian (fail to reject H0)')\n",
    "else:\n",
    "    print('Sample does not look Gaussian (reject H0)')\n",
    "    \n",
    "    \n",
    "# normality test\n",
    "stat, p = normaltest(Effect_5_without_music)\n",
    "print('Statistics=%.3f, p=%.3f' % (stat, p))\n",
    "# interpret\n",
    "alpha = 0.05\n",
    "if p > alpha:\n",
    "    print('Sample looks Gaussian (fail to reject H0)')\n",
    "else:\n",
    "    print('Sample does not look Gaussian (reject H0)')\n",
    "    \n",
    "    \n",
    "# normality test\n",
    "result = anderson(Effect_5_without_music)\n",
    "print('Statistic: %.3f' % result.statistic)\n",
    "p = 0\n",
    "for i in range(len(result.critical_values)):\n",
    "    sl, cv = result.significance_level[i], result.critical_values[i]\n",
    "    if result.statistic < result.critical_values[i]:\n",
    "        print('%.3f: %.3f, data looks normal (fail to reject H0)' % (sl, cv))\n",
    "    else:\n",
    "        print('%.3f: %.3f, data does not look normal (reject H0)' % (sl, cv))   "
   ]
  },
  {
   "cell_type": "markdown",
   "metadata": {},
   "source": [
    "# Since only the music effects variable are following the guassian distribution so we are going to use the non paramatric approach for hypothesis testing"
   ]
  },
  {
   "cell_type": "markdown",
   "metadata": {},
   "source": [
    "If the data does not have the familiar Gaussian distribution, we must resort to nonparametric version of the significance tests. These tests operate in a similar manner, but are distribution free, requiring that real valued data be first transformed into rank data before the test can be performed.\n",
    "\n",
    "In this tutorial, you will discover nonparametric statistical tests that you can use to determine if data samples were drawn from populations with the same or different distributions.\n",
    "\n",
    "\n",
    "\n",
    "The Mann-Whitney U test for comparing independent data samples: the nonparametric version of the Student t-test.\n",
    "The Wilcoxon signed-rank test for comparing paired data samples: the nonparametric version of the paired Student t-test.\n",
    "The Kruskal-Wallis H and Friedman tests for comparing more than two data samples: the nonparametric version of the ANOVA and repeated measures ANOVA tests.\n",
    "Let’s get started.\n",
    "\n",
    "\n",
    "Nonparametric Statistical Significance Tests\n",
    "Nonparametric statistics are those methods that do not assume a specific distribution to the data.\n",
    "\n",
    "Often, they refer to statistical methods that do not assume a Gaussian distribution. They were developed for use with ordinal or interval data, but in practice can also be used with a ranking of real-valued observations in a data sample rather than on the observation values themselves.\n",
    "\n",
    "A common question about two or more datasets is whether they are different. Specifically, whether the difference between their central tendency (e.g. mean or median) is statistically significant.\n",
    "\n",
    "This question can be answered for data samples that do not have a Gaussian distribution by using nonparametric statistical significance tests. The null hypothesis of these tests is often the assumption that both samples were drawn from a population with the same distribution, and therefore the same population parameters, such as mean or median.\n",
    "\n",
    "If after calculating the significance test on two or more samples the null hypothesis is rejected, it indicates that there is evidence to suggest that samples were drawn from different populations, and in turn the difference between sample estimates of population parameters, such as means or medians may be significant.\n",
    "\n",
    "These tests are often used on samples of model skill scores in order to confirm that the difference in skill between machine learning models is significant.\n",
    "\n",
    "In general, each test calculates a test statistic, that must be interpreted with some background in statistics and a deeper knowledge of the statistical test itself. Tests also return a p-value that can be used to interpret the result of the test. The p-value can be thought of as the probability of observing the two data samples given the base assumption (null hypothesis) that the two samples were drawn from a population with the same distribution.\n",
    "\n",
    "The p-value can be interpreted in the context of a chosen significance level called alpha. A common value for alpha is 5% or 0.05. If the p-value is below the significance level, then the test says there is enough evidence to reject the null hypothesis and that the samples were likely drawn from populations with differing distributions.\n",
    "\n",
    "p <= alpha: reject H0, different distribution.\n",
    "p > alpha: fail to reject H0, same distribution."
   ]
  },
  {
   "cell_type": "markdown",
   "metadata": {},
   "source": [
    "# Mann-Whitney U Test"
   ]
  },
  {
   "cell_type": "markdown",
   "metadata": {},
   "source": [
    "The default assumption or null hypothesis is that there is no difference between the distributions of the data samples. Rejection of this hypothesis suggests that there is likely some difference between the samples. More specifically, the test determines whether it is equally likely that any randomly selected observation from one sample will be greater or less than a sample in the other distribution. If violated, it suggests differing distributions.\n",
    "\n",
    "Fail to Reject H0: Sample distributions are equal.\n",
    "Reject H0: Sample distributions are not equal."
   ]
  },
  {
   "cell_type": "code",
   "execution_count": 31,
   "metadata": {},
   "outputs": [
    {
     "name": "stdout",
     "output_type": "stream",
     "text": [
      "Statistics=80.000, p=0.001\n",
      "Different distribution (reject H0)\n",
      "data1: mean=2.087 stdv=1.102\n",
      "data2: mean=1.337 stdv=2.305\n"
     ]
    }
   ],
   "source": [
    "from scipy.stats import mannwhitneyu\n",
    "# compare samples\n",
    "stat, p = mannwhitneyu(Effect_1_with_music, Effect_1_without_music)\n",
    "print('Statistics=%.3f, p=%.3f' % (stat, p))\n",
    "# interpret\n",
    "alpha = 0.05\n",
    "if p > alpha:\n",
    "\tprint('Same distribution (fail to reject H0)')\n",
    "else:\n",
    "\tprint('Different distribution (reject H0)')\n",
    "\n",
    "\n",
    "# summarize\n",
    "print('data1: mean=%.3f stdv=%.3f' % (mean(Effect_1_with_music), std(Effect_1_with_music)))\n",
    "print('data2: mean=%.3f stdv=%.3f' % (mean(Effect_1_without_music), std(Effect_1_without_music)))"
   ]
  },
  {
   "cell_type": "code",
   "execution_count": 32,
   "metadata": {},
   "outputs": [
    {
     "data": {
      "text/html": [
       "<div>\n",
       "<style scoped>\n",
       "    .dataframe tbody tr th:only-of-type {\n",
       "        vertical-align: middle;\n",
       "    }\n",
       "\n",
       "    .dataframe tbody tr th {\n",
       "        vertical-align: top;\n",
       "    }\n",
       "\n",
       "    .dataframe thead th {\n",
       "        text-align: right;\n",
       "    }\n",
       "</style>\n",
       "<table border=\"1\" class=\"dataframe\">\n",
       "  <thead>\n",
       "    <tr style=\"text-align: right;\">\n",
       "      <th></th>\n",
       "      <th>GROUP</th>\n",
       "      <th>AGE</th>\n",
       "      <th>GENDER</th>\n",
       "      <th>EDUCATION</th>\n",
       "      <th>RELIGION</th>\n",
       "      <th>SES</th>\n",
       "      <th>RESIDENCE</th>\n",
       "      <th>FAMILY TYPE</th>\n",
       "      <th>PRE CONNERS INDEX PRE</th>\n",
       "      <th>POST CONNERS INDEX PRE</th>\n",
       "      <th>...</th>\n",
       "      <th>Effect size.1</th>\n",
       "      <th>PRE ADHD Hyperactive-Impulsive PRE</th>\n",
       "      <th>POST ADHD Hyperactive-Impulsive</th>\n",
       "      <th>Effect size.2</th>\n",
       "      <th>PRE Conduct D. PRE</th>\n",
       "      <th>POST Conduct D. POST</th>\n",
       "      <th>Effect size.3</th>\n",
       "      <th>ODD PRE</th>\n",
       "      <th>ODD POST</th>\n",
       "      <th>Effect size.4</th>\n",
       "    </tr>\n",
       "  </thead>\n",
       "  <tbody>\n",
       "    <tr>\n",
       "      <th>0</th>\n",
       "      <td>1</td>\n",
       "      <td>6</td>\n",
       "      <td>M</td>\n",
       "      <td>2</td>\n",
       "      <td>Hindu</td>\n",
       "      <td>M</td>\n",
       "      <td>Urban</td>\n",
       "      <td>J</td>\n",
       "      <td>15</td>\n",
       "      <td>5</td>\n",
       "      <td>...</td>\n",
       "      <td>0.82</td>\n",
       "      <td>8</td>\n",
       "      <td>4</td>\n",
       "      <td>3.25</td>\n",
       "      <td>6</td>\n",
       "      <td>4</td>\n",
       "      <td>0.72</td>\n",
       "      <td>7</td>\n",
       "      <td>6</td>\n",
       "      <td>0.54</td>\n",
       "    </tr>\n",
       "    <tr>\n",
       "      <th>1</th>\n",
       "      <td>1</td>\n",
       "      <td>11</td>\n",
       "      <td>F</td>\n",
       "      <td>5</td>\n",
       "      <td>Hindu</td>\n",
       "      <td>M</td>\n",
       "      <td>Urban</td>\n",
       "      <td>N</td>\n",
       "      <td>19</td>\n",
       "      <td>13</td>\n",
       "      <td>...</td>\n",
       "      <td>3.30</td>\n",
       "      <td>9</td>\n",
       "      <td>9</td>\n",
       "      <td>0.00</td>\n",
       "      <td>11</td>\n",
       "      <td>7</td>\n",
       "      <td>1.45</td>\n",
       "      <td>6</td>\n",
       "      <td>7</td>\n",
       "      <td>-0.54</td>\n",
       "    </tr>\n",
       "    <tr>\n",
       "      <th>2</th>\n",
       "      <td>1</td>\n",
       "      <td>12</td>\n",
       "      <td>M</td>\n",
       "      <td>7</td>\n",
       "      <td>Muslim</td>\n",
       "      <td>M</td>\n",
       "      <td>Semi Urban</td>\n",
       "      <td>N</td>\n",
       "      <td>12</td>\n",
       "      <td>5</td>\n",
       "      <td>...</td>\n",
       "      <td>2.47</td>\n",
       "      <td>9</td>\n",
       "      <td>2</td>\n",
       "      <td>5.60</td>\n",
       "      <td>4</td>\n",
       "      <td>3</td>\n",
       "      <td>0.36</td>\n",
       "      <td>5</td>\n",
       "      <td>2</td>\n",
       "      <td>1.64</td>\n",
       "    </tr>\n",
       "    <tr>\n",
       "      <th>3</th>\n",
       "      <td>1</td>\n",
       "      <td>12</td>\n",
       "      <td>M</td>\n",
       "      <td>6</td>\n",
       "      <td>Hindu</td>\n",
       "      <td>M</td>\n",
       "      <td>Semi Urban</td>\n",
       "      <td>N</td>\n",
       "      <td>12</td>\n",
       "      <td>5</td>\n",
       "      <td>...</td>\n",
       "      <td>3.30</td>\n",
       "      <td>8</td>\n",
       "      <td>2</td>\n",
       "      <td>4.87</td>\n",
       "      <td>4</td>\n",
       "      <td>3</td>\n",
       "      <td>0.36</td>\n",
       "      <td>8</td>\n",
       "      <td>2</td>\n",
       "      <td>3.29</td>\n",
       "    </tr>\n",
       "    <tr>\n",
       "      <th>4</th>\n",
       "      <td>1</td>\n",
       "      <td>10</td>\n",
       "      <td>M</td>\n",
       "      <td>6</td>\n",
       "      <td>Hindu</td>\n",
       "      <td>M</td>\n",
       "      <td>Urban</td>\n",
       "      <td>N</td>\n",
       "      <td>13</td>\n",
       "      <td>11</td>\n",
       "      <td>...</td>\n",
       "      <td>0.82</td>\n",
       "      <td>6</td>\n",
       "      <td>5</td>\n",
       "      <td>0.81</td>\n",
       "      <td>6</td>\n",
       "      <td>6</td>\n",
       "      <td>0.00</td>\n",
       "      <td>7</td>\n",
       "      <td>6</td>\n",
       "      <td>0.54</td>\n",
       "    </tr>\n",
       "  </tbody>\n",
       "</table>\n",
       "<p>5 rows × 25 columns</p>\n",
       "</div>"
      ],
      "text/plain": [
       "   GROUP  AGE GENDER  EDUCATION RELIGION SES    RESIDENCE FAMILY TYPE  \\\n",
       "0      1    6      M          2    Hindu    M       Urban           J   \n",
       "1      1   11      F          5    Hindu    M       Urban           N   \n",
       "2      1   12      M          7   Muslim    M  Semi Urban           N   \n",
       "3      1   12      M          6    Hindu    M  Semi Urban           N   \n",
       "4      1   10      M          6    Hindu    M       Urban           N   \n",
       "\n",
       "   PRE CONNERS INDEX PRE  POST CONNERS INDEX PRE  ...  Effect size.1  \\\n",
       "0                     15                       5  ...           0.82   \n",
       "1                     19                      13  ...           3.30   \n",
       "2                     12                       5  ...           2.47   \n",
       "3                     12                       5  ...           3.30   \n",
       "4                     13                      11  ...           0.82   \n",
       "\n",
       "   PRE ADHD Hyperactive-Impulsive PRE  POST ADHD Hyperactive-Impulsive  \\\n",
       "0                                   8                                4   \n",
       "1                                   9                                9   \n",
       "2                                   9                                2   \n",
       "3                                   8                                2   \n",
       "4                                   6                                5   \n",
       "\n",
       "   Effect size.2  PRE Conduct D. PRE  POST Conduct D. POST  Effect size.3  \\\n",
       "0           3.25                   6                     4           0.72   \n",
       "1           0.00                  11                     7           1.45   \n",
       "2           5.60                   4                     3           0.36   \n",
       "3           4.87                   4                     3           0.36   \n",
       "4           0.81                   6                     6           0.00   \n",
       "\n",
       "   ODD PRE  ODD POST  Effect size.4  \n",
       "0        7         6           0.54  \n",
       "1        6         7          -0.54  \n",
       "2        5         2           1.64  \n",
       "3        8         2           3.29  \n",
       "4        7         6           0.54  \n",
       "\n",
       "[5 rows x 25 columns]"
      ]
     },
     "execution_count": 32,
     "metadata": {},
     "output_type": "execute_result"
    }
   ],
   "source": [
    "df.head()"
   ]
  },
  {
   "cell_type": "markdown",
   "metadata": {},
   "source": [
    "# Applying T-test with pre and post index"
   ]
  },
  {
   "cell_type": "markdown",
   "metadata": {},
   "source": [
    "Group_1 is for music and Group_2 is for without music"
   ]
  },
  {
   "cell_type": "code",
   "execution_count": 33,
   "metadata": {},
   "outputs": [
    {
     "name": "stdout",
     "output_type": "stream",
     "text": [
      "t=2.285, p=0.028\n"
     ]
    }
   ],
   "source": [
    "from scipy.stats import ttest_ind\n",
    "stat, p = ttest_ind(Group1['PRE CONNERS INDEX PRE'], Group2['POST CONNERS INDEX PRE'])\n",
    "print('t=%.3f, p=%.3f' % (stat, p))"
   ]
  },
  {
   "cell_type": "code",
   "execution_count": 34,
   "metadata": {},
   "outputs": [
    {
     "name": "stdout",
     "output_type": "stream",
     "text": [
      "t=1.523, p=0.136\n"
     ]
    }
   ],
   "source": [
    "stat, p = ttest_ind(Group1['PRE ADHD Hyperactive-Impulsive PRE'], Group2['POST ADHD Hyperactive-Impulsive'])\n",
    "print('t=%.3f, p=%.3f' % (stat, p))"
   ]
  },
  {
   "cell_type": "code",
   "execution_count": 35,
   "metadata": {},
   "outputs": [
    {
     "name": "stdout",
     "output_type": "stream",
     "text": [
      "t=2.349, p=0.024\n"
     ]
    }
   ],
   "source": [
    "stat, p = ttest_ind(Group1['PRE Conduct D. PRE'], Group2['POST Conduct D. POST'])\n",
    "print('t=%.3f, p=%.3f' % (stat, p))"
   ]
  },
  {
   "cell_type": "code",
   "execution_count": 36,
   "metadata": {},
   "outputs": [
    {
     "name": "stdout",
     "output_type": "stream",
     "text": [
      "t=2.750, p=0.009\n"
     ]
    }
   ],
   "source": [
    "stat, p = ttest_ind(Group1['ODD PRE'], Group2['ODD POST'])\n",
    "print('t=%.3f, p=%.3f' % (stat, p))"
   ]
  },
  {
   "cell_type": "markdown",
   "metadata": {},
   "source": [
    "# Applying T-test within the group"
   ]
  },
  {
   "cell_type": "markdown",
   "metadata": {},
   "source": [
    "## Tests within group_1"
   ]
  },
  {
   "cell_type": "code",
   "execution_count": 37,
   "metadata": {},
   "outputs": [
    {
     "name": "stdout",
     "output_type": "stream",
     "text": [
      "t=6.403, p=0.000\n"
     ]
    }
   ],
   "source": [
    "stat, p = ttest_ind(Group1['PRE CONNERS INDEX PRE'], Group1['POST CONNERS INDEX PRE'])\n",
    "print('t=%.3f, p=%.3f' % (stat, p))"
   ]
  },
  {
   "cell_type": "code",
   "execution_count": 38,
   "metadata": {},
   "outputs": [
    {
     "name": "stdout",
     "output_type": "stream",
     "text": [
      "t=4.579, p=0.000\n"
     ]
    }
   ],
   "source": [
    "stat, p = ttest_ind(Group1['PRE ADHD Hyperactive-Impulsive PRE'], Group1['POST ADHD Hyperactive-Impulsive'])\n",
    "print('t=%.3f, p=%.3f' % (stat, p))"
   ]
  },
  {
   "cell_type": "code",
   "execution_count": 39,
   "metadata": {},
   "outputs": [
    {
     "name": "stdout",
     "output_type": "stream",
     "text": [
      "t=1.493, p=0.144\n"
     ]
    }
   ],
   "source": [
    "stat, p = ttest_ind(Group1['PRE Conduct D. PRE'], Group1['POST Conduct D. POST'])\n",
    "print('t=%.3f, p=%.3f' % (stat, p))"
   ]
  },
  {
   "cell_type": "code",
   "execution_count": 40,
   "metadata": {},
   "outputs": [
    {
     "name": "stdout",
     "output_type": "stream",
     "text": [
      "t=2.551, p=0.015\n"
     ]
    }
   ],
   "source": [
    "stat, p = ttest_ind(Group1['ODD PRE'], Group1['ODD POST'])\n",
    "print('t=%.3f, p=%.3f' % (stat, p))"
   ]
  },
  {
   "cell_type": "markdown",
   "metadata": {},
   "source": [
    "## Tests within group_2"
   ]
  },
  {
   "cell_type": "code",
   "execution_count": 41,
   "metadata": {},
   "outputs": [
    {
     "name": "stdout",
     "output_type": "stream",
     "text": [
      "t=6.403, p=0.000\n"
     ]
    }
   ],
   "source": [
    "stat, p = ttest_ind(Group1['PRE CONNERS INDEX PRE'], Group1['POST CONNERS INDEX PRE'])\n",
    "print('t=%.3f, p=%.3f' % (stat, p))"
   ]
  },
  {
   "cell_type": "code",
   "execution_count": 42,
   "metadata": {},
   "outputs": [
    {
     "name": "stdout",
     "output_type": "stream",
     "text": [
      "t=4.579, p=0.000\n"
     ]
    }
   ],
   "source": [
    "stat, p = ttest_ind(Group1['PRE ADHD Hyperactive-Impulsive PRE'], Group1['POST ADHD Hyperactive-Impulsive'])\n",
    "print('t=%.3f, p=%.3f' % (stat, p))"
   ]
  },
  {
   "cell_type": "code",
   "execution_count": 43,
   "metadata": {},
   "outputs": [
    {
     "name": "stdout",
     "output_type": "stream",
     "text": [
      "t=1.493, p=0.144\n"
     ]
    }
   ],
   "source": [
    "stat, p = ttest_ind(Group1['PRE Conduct D. PRE'], Group1['POST Conduct D. POST'])\n",
    "print('t=%.3f, p=%.3f' % (stat, p))"
   ]
  },
  {
   "cell_type": "code",
   "execution_count": 44,
   "metadata": {},
   "outputs": [
    {
     "name": "stdout",
     "output_type": "stream",
     "text": [
      "t=2.551, p=0.015\n"
     ]
    }
   ],
   "source": [
    "stat, p = ttest_ind(Group1['ODD PRE'], Group1['ODD POST'])\n",
    "print('t=%.3f, p=%.3f' % (stat, p))"
   ]
  }
 ],
 "metadata": {
  "kernelspec": {
   "display_name": "Python 3",
   "language": "python",
   "name": "python3"
  },
  "language_info": {
   "codemirror_mode": {
    "name": "ipython",
    "version": 3
   },
   "file_extension": ".py",
   "mimetype": "text/x-python",
   "name": "python",
   "nbconvert_exporter": "python",
   "pygments_lexer": "ipython3",
   "version": "3.6.8"
  }
 },
 "nbformat": 4,
 "nbformat_minor": 2
}
